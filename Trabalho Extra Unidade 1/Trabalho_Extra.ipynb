{
 "cells": [
  {
   "cell_type": "markdown",
   "metadata": {},
   "source": [
    "# 1. Análise do Dataset da Mega Sena - Introdução\n",
    "\n",
    "Me foi dado um Dataset com informações sobre a Mega Sena correspondente ao período em anos de 1996 a 2018. O conjunto de dados é dividido em 18 colunas, cada uma com sua devida especificação (Data, Dezenas, Ganhadores, Valores etc). Para dar início às análises, primeiro vamos observar a tabela com os alguns dados e logo após também faremos uso de gráficos padrão de matplotlib."
   ]
  },
  {
   "cell_type": "code",
   "execution_count": 4,
   "metadata": {
    "scrolled": true
   },
   "outputs": [
    {
     "data": {
      "text/html": [
       "<div>\n",
       "<style scoped>\n",
       "    .dataframe tbody tr th:only-of-type {\n",
       "        vertical-align: middle;\n",
       "    }\n",
       "\n",
       "    .dataframe tbody tr th {\n",
       "        vertical-align: top;\n",
       "    }\n",
       "\n",
       "    .dataframe thead th {\n",
       "        text-align: right;\n",
       "    }\n",
       "</style>\n",
       "<table border=\"1\" class=\"dataframe\">\n",
       "  <thead>\n",
       "    <tr style=\"text-align: right;\">\n",
       "      <th></th>\n",
       "      <th>Concurso</th>\n",
       "      <th>Data Sorteio</th>\n",
       "      <th>Dezena1</th>\n",
       "      <th>Dezena2</th>\n",
       "      <th>Dezena3</th>\n",
       "      <th>Dezena4</th>\n",
       "      <th>Dezena5</th>\n",
       "      <th>Dezena6</th>\n",
       "      <th>Arrecadacao_Total</th>\n",
       "      <th>Ganhadores_Sena</th>\n",
       "      <th>Rateio_Sena</th>\n",
       "      <th>Ganhadores_Quina</th>\n",
       "      <th>Rateio_Quina</th>\n",
       "      <th>Ganhadores_Quadra</th>\n",
       "      <th>Rateio_Quadra</th>\n",
       "      <th>Acumulado</th>\n",
       "      <th>Valor_Acumulado</th>\n",
       "      <th>Estimativa_Prêmio</th>\n",
       "    </tr>\n",
       "  </thead>\n",
       "  <tbody>\n",
       "    <tr>\n",
       "      <th>0</th>\n",
       "      <td>1</td>\n",
       "      <td>1996-03-11</td>\n",
       "      <td>41</td>\n",
       "      <td>5</td>\n",
       "      <td>4</td>\n",
       "      <td>52</td>\n",
       "      <td>30</td>\n",
       "      <td>33</td>\n",
       "      <td>0.0</td>\n",
       "      <td>0</td>\n",
       "      <td>0.00</td>\n",
       "      <td>17</td>\n",
       "      <td>39158.92</td>\n",
       "      <td>2016</td>\n",
       "      <td>330.21</td>\n",
       "      <td>SIM</td>\n",
       "      <td>1714650.23</td>\n",
       "      <td>0</td>\n",
       "    </tr>\n",
       "    <tr>\n",
       "      <th>1</th>\n",
       "      <td>2</td>\n",
       "      <td>1996-03-18</td>\n",
       "      <td>9</td>\n",
       "      <td>39</td>\n",
       "      <td>37</td>\n",
       "      <td>49</td>\n",
       "      <td>43</td>\n",
       "      <td>41</td>\n",
       "      <td>0.0</td>\n",
       "      <td>1</td>\n",
       "      <td>2307162.23</td>\n",
       "      <td>65</td>\n",
       "      <td>14424.02</td>\n",
       "      <td>4488</td>\n",
       "      <td>208.91</td>\n",
       "      <td>NÃO</td>\n",
       "      <td>0.00</td>\n",
       "      <td>0</td>\n",
       "    </tr>\n",
       "    <tr>\n",
       "      <th>2</th>\n",
       "      <td>3</td>\n",
       "      <td>1996-03-25</td>\n",
       "      <td>36</td>\n",
       "      <td>30</td>\n",
       "      <td>10</td>\n",
       "      <td>11</td>\n",
       "      <td>29</td>\n",
       "      <td>47</td>\n",
       "      <td>0.0</td>\n",
       "      <td>2</td>\n",
       "      <td>391192.51</td>\n",
       "      <td>62</td>\n",
       "      <td>10515.93</td>\n",
       "      <td>4261</td>\n",
       "      <td>153.01</td>\n",
       "      <td>NÃO</td>\n",
       "      <td>0.00</td>\n",
       "      <td>0</td>\n",
       "    </tr>\n",
       "    <tr>\n",
       "      <th>3</th>\n",
       "      <td>4</td>\n",
       "      <td>1996-04-01</td>\n",
       "      <td>6</td>\n",
       "      <td>59</td>\n",
       "      <td>42</td>\n",
       "      <td>27</td>\n",
       "      <td>1</td>\n",
       "      <td>5</td>\n",
       "      <td>0.0</td>\n",
       "      <td>0</td>\n",
       "      <td>0.00</td>\n",
       "      <td>39</td>\n",
       "      <td>15322.24</td>\n",
       "      <td>3311</td>\n",
       "      <td>180.48</td>\n",
       "      <td>SIM</td>\n",
       "      <td>717080.75</td>\n",
       "      <td>0</td>\n",
       "    </tr>\n",
       "    <tr>\n",
       "      <th>4</th>\n",
       "      <td>5</td>\n",
       "      <td>1996-04-08</td>\n",
       "      <td>1</td>\n",
       "      <td>19</td>\n",
       "      <td>46</td>\n",
       "      <td>6</td>\n",
       "      <td>16</td>\n",
       "      <td>2</td>\n",
       "      <td>0.0</td>\n",
       "      <td>0</td>\n",
       "      <td>0.00</td>\n",
       "      <td>98</td>\n",
       "      <td>5318.10</td>\n",
       "      <td>5399</td>\n",
       "      <td>96.53</td>\n",
       "      <td>SIM</td>\n",
       "      <td>1342488.85</td>\n",
       "      <td>0</td>\n",
       "    </tr>\n",
       "  </tbody>\n",
       "</table>\n",
       "</div>"
      ],
      "text/plain": [
       "   Concurso Data Sorteio  Dezena1  Dezena2  Dezena3  Dezena4  Dezena5  \\\n",
       "0         1   1996-03-11       41        5        4       52       30   \n",
       "1         2   1996-03-18        9       39       37       49       43   \n",
       "2         3   1996-03-25       36       30       10       11       29   \n",
       "3         4   1996-04-01        6       59       42       27        1   \n",
       "4         5   1996-04-08        1       19       46        6       16   \n",
       "\n",
       "   Dezena6  Arrecadacao_Total  Ganhadores_Sena  Rateio_Sena  Ganhadores_Quina  \\\n",
       "0       33                0.0                0         0.00                17   \n",
       "1       41                0.0                1   2307162.23                65   \n",
       "2       47                0.0                2    391192.51                62   \n",
       "3        5                0.0                0         0.00                39   \n",
       "4        2                0.0                0         0.00                98   \n",
       "\n",
       "   Rateio_Quina  Ganhadores_Quadra  Rateio_Quadra Acumulado  Valor_Acumulado  \\\n",
       "0      39158.92               2016         330.21       SIM       1714650.23   \n",
       "1      14424.02               4488         208.91       NÃO             0.00   \n",
       "2      10515.93               4261         153.01       NÃO             0.00   \n",
       "3      15322.24               3311         180.48       SIM        717080.75   \n",
       "4       5318.10               5399          96.53       SIM       1342488.85   \n",
       "\n",
       "   Estimativa_Prêmio  \n",
       "0                  0  \n",
       "1                  0  \n",
       "2                  0  \n",
       "3                  0  \n",
       "4                  0  "
      ]
     },
     "execution_count": 4,
     "metadata": {},
     "output_type": "execute_result"
    }
   ],
   "source": [
    "# Importar as bibliotecas necessárias\n",
    "import pandas as pd\n",
    "import matplotlib.pyplot as plt\n",
    "# Atribuir o nome da planilha para a variável \"arquivo\"\n",
    "arquivo = 'basedados.xlsx'\n",
    "# Carregar a base de dados para um objeto pandas.io.excel.ExcelFile\n",
    "excel = pd.ExcelFile(arquivo)\n",
    "# Carregar a planilha excel para um objeto dataframe\n",
    "dados = excel.parse(0)\n",
    "# Definição dos Labels etc\n",
    "cols = ['Concurso','Data Sorteio','Dezena1','Dezena2','Dezena3',\n",
    "        'Dezena4','Dezena5','Dezena6','Arrecadacao_Total','Ganhadores_Sena',\n",
    "        'Rateio_Sena','Ganhadores_Quina','Rateio_Quina','Ganhadores_Quadra',\n",
    "        'Rateio_Quadra','Acumulado','Valor_Acumulado','Estimativa_Prêmio']\n",
    "dados_review = dados[cols]\n",
    "# Imprimir\n",
    "dados_review.head()"
   ]
  },
  {
   "cell_type": "markdown",
   "metadata": {},
   "source": [
    "#### Código para o gráfico que nos mostra a maior quantidade de ganhadores da Sena de acordo com o ano:"
   ]
  },
  {
   "cell_type": "code",
   "execution_count": 5,
   "metadata": {},
   "outputs": [
    {
     "data": {
      "image/png": "[encoded data removed]",
      "text/plain": [
       "<matplotlib.figure.Figure at 0x6fadfd0>"
      ]
     },
     "metadata": {},
     "output_type": "display_data"
    }
   ],
   "source": [
    "# Gerando grafico com base nos Ganhadores da Sena\n",
    "%matplotlib inline\n",
    "fig, ax = plt.subplots()\n",
    "# Definição dos Labels\n",
    "plt.plot(dados_review['Data Sorteio'], \n",
    "         dados_review['Ganhadores_Sena'], c='blue', label='Ganhadores')\n",
    "plt.legend()\n",
    "plt.title('Quantidade de Ganhadores da Sena')\n",
    "# Definições para simplificação visual\n",
    "plt.tick_params(bottom=\"off\", top=\"off\", left=\"off\", right=\"off\")\n",
    "ax.spines[\"right\"].set_visible(False)\n",
    "ax.spines[\"left\"].set_visible(False)\n",
    "ax.spines[\"bottom\"].set_visible(False)\n",
    "ax.spines[\"top\"].set_visible(False)\n",
    "# Imprimir grafico do dataframe\n",
    "plt.show()"
   ]
  },
  {
   "cell_type": "markdown",
   "metadata": {},
   "source": [
    "É facil identificar alguns dos maiores valores facilmente (entre 2002-2006 e próximo à 2018) e que o gráfico não possui um alto grau de concentração, oque já era esperado, pois apesar de o número de apostas/apostadores sempre estar crescendo não é garantido que um grande número de pessoas irá ganhar o concurso."
   ]
  },
  {
   "cell_type": "markdown",
   "metadata": {},
   "source": [
    "#### Código para o gráfico que nos mostra o valor dos prêmios da Sena ao decorrer dos anos:"
   ]
  },
  {
   "cell_type": "code",
   "execution_count": 15,
   "metadata": {},
   "outputs": [
    {
     "data": {
      "image/png": "[encoded data removed]",
      "text/plain": [
       "<matplotlib.figure.Figure at 0x9107fd0>"
      ]
     },
     "metadata": {},
     "output_type": "display_data"
    }
   ],
   "source": [
    "%matplotlib inline\n",
    "fig, ax = plt.subplots()\n",
    "# Cálculo do valor real dos prêmios \n",
    "dados_review[\"prêmio_máximo\"] = dados.Ganhadores_Sena * dados.Rateio_Sena\n",
    "# Definição dos Labels\n",
    "plt.plot(dados_review['Data Sorteio'], \n",
    "         dados_review['prêmio_máximo'], c='blue', label='Prêmios da Sena [Em Milhões]')\n",
    "plt.legend()\n",
    "plt.title('Maiores Prêmio da Sena')\n",
    "# Definições para simplificação visual\n",
    "plt.tick_params(bottom=\"off\", top=\"off\", left=\"off\", right=\"off\")\n",
    "ax.spines[\"right\"].set_visible(False)\n",
    "ax.spines[\"left\"].set_visible(False)\n",
    "ax.spines[\"bottom\"].set_visible(False)\n",
    "ax.spines[\"top\"].set_visible(False)\n",
    "# Imprimir grafico do dataframe\n",
    "plt.show()"
   ]
  },
  {
   "cell_type": "markdown",
   "metadata": {},
   "source": [
    "De maneira contrária ao exemplo anterior, podemos notar apartir deste gráfico que o crescimento\n",
    "do valor do prêmio da Sena tem sido constante pelo aumento gradativo das apostas principalmente\n",
    "nos ultimos oito anos (2010-2018). Assim, nos dando a interpretação de que em alguma próxima edição da Mega Sena poderemos ter valores ainda mais altos em sua premiação."
   ]
  },
  {
   "cell_type": "markdown",
   "metadata": {},
   "source": [
    "## Conclusão\n",
    "\n",
    "Apesar de uma gama de dados estarem ligadas a um mesmo período, a forma de agrupamento é um importante fator que nos dá interpretações completamente diferentes e conclusões importantes para sua análise.\n",
    "Onde o diferencial se dá a como e quais informações decidimos colocar nos gráficos, para transmitir uma interpretação completa e objetiva."
   ]
  }
 ],
 "metadata": {
  "kernelspec": {
   "display_name": "Python 3",
   "language": "python",
   "name": "python3"
  },
  "language_info": {
   "codemirror_mode": {
    "name": "ipython",
    "version": 3
   },
   "file_extension": ".py",
   "mimetype": "text/x-python",
   "name": "python",
   "nbconvert_exporter": "python",
   "pygments_lexer": "ipython3",
   "version": "3.6.4"
  }
 },
 "nbformat": 4,
 "nbformat_minor": 2
}
